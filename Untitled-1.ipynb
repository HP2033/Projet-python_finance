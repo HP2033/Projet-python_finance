{
 "cells": [
  {
   "cell_type": "code",
   "execution_count": 30,
   "id": "d0e51e7f",
   "metadata": {},
   "outputs": [
    {
     "name": "stdout",
     "output_type": "stream",
     "text": [
      "              precision    recall  f1-score   support\n",
      "\n",
      "           0       0.65      0.65      0.65     41787\n",
      "           1       0.65      0.64      0.64     41303\n",
      "\n",
      "    accuracy                           0.65     83090\n",
      "   macro avg       0.65      0.65      0.65     83090\n",
      "weighted avg       0.65      0.65      0.65     83090\n",
      "\n"
     ]
    },
    {
     "data": {
      "text/plain": [
       "['scaler_v3.pkl']"
      ]
     },
     "execution_count": 30,
     "metadata": {},
     "output_type": "execute_result"
    }
   ],
   "source": [
    "\n",
    "import pandas as pd\n",
    "import numpy as np\n",
    "import matplotlib.pyplot as plt\n",
    "import seaborn as sns\n",
    "from sklearn.model_selection import train_test_split\n",
    "from sklearn.linear_model import LogisticRegression\n",
    "from sklearn.ensemble import RandomForestClassifier\n",
    "from sklearn.model_selection import train_test_split\n",
    "from sklearn.metrics import classification_report\n",
    "from sklearn.preprocessing import LabelEncoder, StandardScaler\n",
    "from imblearn.over_sampling import SMOTE\n",
    "\n",
    "\n",
    "# 1. Charger les données\n",
    "df = pd.read_csv(\"loan.csv\", low_memory=False)\n",
    "\n",
    "# 2. Garder uniquement lesdonnées  type prêts \"Fully Paid\" et \"Charged Off\"\n",
    "df = df[df['loan_status'].isin(['Fully Paid', 'Charged Off'])]\n",
    "df['target'] = df['loan_status'].map({'Fully Paid': 0, 'Charged Off': 1})\n",
    "\n",
    "# 3. Sélection des variables explicatifs\n",
    "features = ['loan_amnt', 'term', 'int_rate', 'emp_length',\n",
    "            'annual_inc', 'purpose', 'dti', 'total_acc']\n",
    "df = df[features + ['target']].copy()\n",
    "\n",
    "# 4. Nettoyage\n",
    "df['int_rate'] = df['int_rate'].astype(str).str.rstrip('%').astype(float)\n",
    "df[['term', 'emp_length', 'purpose']] = df[['term', 'emp_length', 'purpose']].fillna('Unknown')\n",
    "\n",
    "# 5. Variables catégorielles\n",
    "le_dict = {}\n",
    "for col in ['term', 'emp_length', 'purpose']:\n",
    "    le = LabelEncoder()\n",
    "    df[col] = le.fit_transform(df[col])\n",
    "    le_dict[col] = le\n",
    "\n",
    "# 6. Supprimer les lignes avec NaN restantes\n",
    "df = df.dropna()\n",
    "\n",
    "# 7. Séparer X et y\n",
    "X = df.drop('target', axis=1)\n",
    "y = df['target']\n",
    "\n",
    "# 8. Standardiser\n",
    "scaler = StandardScaler()\n",
    "X_scaled = scaler.fit_transform(X)\n",
    "\n",
    "# 9. Equilibrage des données avec SMOTE\n",
    "smote = SMOTE(random_state=42)\n",
    "X_resampled, y_resampled = smote.fit_resample(X_scaled, y)\n",
    "\n",
    "# 10. Train/Test Split sur les données rééquilibrées\n",
    "X_train, X_test, y_train, y_test = train_test_split(X_resampled, y_resampled, test_size=0.2, random_state=42)\n",
    "\n",
    "# 10. Entraînement du model LogisticRegression \n",
    "model = LogisticRegression(max_iter=3000, class_weight='balanced')\n",
    "model.fit(X_train, y_train)\n",
    "\n",
    "# 11. Évaluation\n",
    "y_pred = model.predict(X_test)\n",
    "print(classification_report(y_test, y_pred))\n",
    "\n",
    "# 12. Sauvegarde\n",
    "joblib.dump(model, \"credit_model_logreg_v3.pkl\")\n",
    "joblib.dump(le_dict, \"label_encoders_v3.pkl\")\n",
    "joblib.dump(scaler, \"scaler_v3.pkl\")\n",
    "\n"
   ]
  },
  {
   "cell_type": "code",
   "execution_count": 29,
   "id": "c93ea728",
   "metadata": {},
   "outputs": [
    {
     "name": "stdout",
     "output_type": "stream",
     "text": [
      "              precision    recall  f1-score   support\n",
      "\n",
      "           0       0.86      0.87      0.86     41787\n",
      "           1       0.86      0.86      0.86     41303\n",
      "\n",
      "    accuracy                           0.86     83090\n",
      "   macro avg       0.86      0.86      0.86     83090\n",
      "weighted avg       0.86      0.86      0.86     83090\n",
      "\n"
     ]
    },
    {
     "data": {
      "text/plain": [
       "['scaler_rf_smote.pkl']"
      ]
     },
     "execution_count": 29,
     "metadata": {},
     "output_type": "execute_result"
    }
   ],
   "source": [
    "from sklearn.ensemble import RandomForestClassifier\n",
    "from sklearn.model_selection import train_test_split\n",
    "from sklearn.metrics import classification_report\n",
    "from sklearn.preprocessing import LabelEncoder, StandardScaler\n",
    "from imblearn.over_sampling import SMOTE\n",
    "import pandas as pd\n",
    "import numpy as np\n",
    "import matplotlib.pyplot as plt\n",
    "import seaborn as sns\n",
    "import joblib\n",
    "\n",
    "# 1. Charger les données\n",
    "df = pd.read_csv(\"loan.csv\", low_memory=False)\n",
    "\n",
    "# 2. Garder uniquement les prêts \"Fully Paid\" et \"Charged Off\"\n",
    "df = df[df['loan_status'].isin(['Fully Paid', 'Charged Off'])]\n",
    "df['target'] = df['loan_status'].map({'Fully Paid': 0, 'Charged Off': 1})\n",
    "\n",
    "# 3. Sélection des variables\n",
    "features = ['loan_amnt', 'term', 'int_rate', 'emp_length',\n",
    "            'annual_inc', 'purpose', 'dti']\n",
    "df = df[features + ['target']].copy()\n",
    "\n",
    "# 4. Nettoyage\n",
    "df['int_rate'] = df['int_rate'].astype(str).str.rstrip('%').astype(float)\n",
    "df[['term', 'emp_length', 'purpose']] = df[['term', 'emp_length', 'purpose']].fillna('Unknown')\n",
    "\n",
    "# 5. Encodage des variables catégorielles\n",
    "le_dict = {}\n",
    "for col in ['term', 'emp_length', 'purpose']:\n",
    "    le = LabelEncoder()\n",
    "    df[col] = le.fit_transform(df[col])\n",
    "    le_dict[col] = le\n",
    "\n",
    "# 6. Supprimer les lignes avec NaN restantes\n",
    "df = df.dropna()\n",
    "\n",
    "# 7. Séparer X et y\n",
    "X = df.drop('target', axis=1)\n",
    "y = df['target']\n",
    "\n",
    "# 8. Standardiser\n",
    "scaler = StandardScaler()\n",
    "X_scaled = scaler.fit_transform(X)\n",
    "\n",
    "# 9. Appliquer SMOTE\n",
    "smote = SMOTE(random_state=42)\n",
    "X_resampled, y_resampled = smote.fit_resample(X_scaled, y)\n",
    "\n",
    "# 10. Train/Test Split sur les données rééquilibrées\n",
    "X_train, X_test, y_train, y_test = train_test_split(X_resampled, y_resampled, test_size=0.2, random_state=42)\n",
    "\n",
    "# 11. Entraînement Random Forest\n",
    "rf = RandomForestClassifier(n_estimators=100, random_state=42)\n",
    "rf.fit(X_train, y_train)\n",
    "\n",
    "# 12. Prédiction et évaluation\n",
    "y_pred = rf.predict(X_test)\n",
    "print(classification_report(y_test, y_pred))\n",
    "\n",
    "# 13. Sauvegarde des objets\n",
    "joblib.dump(rf, \"credit_model_rf_smote.pkl\")\n",
    "joblib.dump(le_dict, \"label_encoders_rf_smote.pkl\")\n",
    "joblib.dump(scaler, \"scaler_rf_smote.pkl\")"
   ]
  },
  {
   "cell_type": "markdown",
   "id": "f6128b3a",
   "metadata": {},
   "source": []
  }
 ],
 "metadata": {
  "kernelspec": {
   "display_name": "base",
   "language": "python",
   "name": "python3"
  },
  "language_info": {
   "codemirror_mode": {
    "name": "ipython",
    "version": 3
   },
   "file_extension": ".py",
   "mimetype": "text/x-python",
   "name": "python",
   "nbconvert_exporter": "python",
   "pygments_lexer": "ipython3",
   "version": "3.12.7"
  }
 },
 "nbformat": 4,
 "nbformat_minor": 5
}
